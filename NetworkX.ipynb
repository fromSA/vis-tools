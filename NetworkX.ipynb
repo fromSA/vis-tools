{
 "cells": [
  {
   "cell_type": "markdown",
   "id": "637de8d2",
   "metadata": {},
   "source": [
    "https://networkx.org/documentation/stable/install.html"
   ]
  },
  {
   "cell_type": "code",
   "execution_count": null,
   "id": "93ee6047",
   "metadata": {},
   "outputs": [],
   "source": [
    "import networkx as nx\n",
    "import matplotlib.pyplot as plt\n",
    "import pydot"
   ]
  },
  {
   "cell_type": "code",
   "execution_count": null,
   "id": "29152462",
   "metadata": {},
   "outputs": [],
   "source": [
    "G = nx.Graph()"
   ]
  },
  {
   "cell_type": "code",
   "execution_count": null,
   "id": "feea43f5",
   "metadata": {},
   "outputs": [],
   "source": [
    "# Nodes\n",
    "G.add_node(1)\n",
    "list_of_nodes = [2, 3]\n",
    "G.add_nodes_from(list_of_nodes)\n",
    "list_of_tupples_nodes= [(4, {\"color\": \"red\"}),(5, {\"color\": \"green\"}),]\n",
    "G.add_nodes_from(list_of_tupples_nodes)\n",
    "G.add_node(\"spam\")\n",
    "\n",
    "# Edges\n",
    "G.add_edge(1, 2)"
   ]
  },
  {
   "cell_type": "code",
   "execution_count": null,
   "id": "77ff50b2",
   "metadata": {},
   "outputs": [],
   "source": [
    "nx.draw_shell(G, with_labels=True)\n",
    "plt.show()"
   ]
  },
  {
   "cell_type": "code",
   "execution_count": null,
   "id": "1e4daf09",
   "metadata": {},
   "outputs": [],
   "source": [
    "# Digraphs\n",
    "\n",
    "DG = nx.DiGraph()\n",
    "DG.add_edge(2, 1)   # adds the nodes in order 2, 1\n",
    "DG.add_edge(1, 3)\n",
    "DG.add_edge(2, 4)"
   ]
  },
  {
   "cell_type": "code",
   "execution_count": null,
   "id": "83155f1d",
   "metadata": {},
   "outputs": [],
   "source": [
    "nx.draw_shell(DG, with_labels=True)\n",
    "plt.show()"
   ]
  },
  {
   "cell_type": "code",
   "execution_count": null,
   "id": "44d99300",
   "metadata": {},
   "outputs": [],
   "source": [
    "options = {'node_color': 'black','node_size': 100,'width': 3, 'with_labels':True}\n",
    "\n",
    "nx.draw_shell(DG, **options)\n",
    "plt.show()"
   ]
  },
  {
   "cell_type": "code",
   "execution_count": null,
   "id": "79cb0b96",
   "metadata": {},
   "outputs": [],
   "source": [
    "nx.bipartite_layout(DG, nodes=[1,2])"
   ]
  },
  {
   "cell_type": "code",
   "execution_count": null,
   "id": "6576fd22",
   "metadata": {},
   "outputs": [],
   "source": [
    "# use pydot as an interface to graphviz.\n",
    "\n",
    "d = nx.nx_pydot.to_pydot(G)"
   ]
  },
  {
   "cell_type": "code",
   "execution_count": null,
   "id": "b75c5dba",
   "metadata": {},
   "outputs": [],
   "source": [
    "print(d)"
   ]
  },
  {
   "cell_type": "code",
   "execution_count": null,
   "id": "39f50945",
   "metadata": {},
   "outputs": [],
   "source": [
    "GG = nx.balanced_tree(12,4)"
   ]
  },
  {
   "cell_type": "code",
   "execution_count": null,
   "id": "2aa621f8",
   "metadata": {},
   "outputs": [],
   "source": [
    "options = {'node_color': 'black','node_size': 100,'width': 3, 'with_labels':True}\n",
    "\n",
    "nx.draw_shell(GG, **options)\n",
    "plt.show()"
   ]
  },
  {
   "cell_type": "code",
   "execution_count": null,
   "id": "fa9e4a66",
   "metadata": {},
   "outputs": [],
   "source": [
    "H = nx.path_graph(10)\n",
    "G.add_nodes_from(H)"
   ]
  },
  {
   "cell_type": "code",
   "execution_count": null,
   "id": "73a3a584",
   "metadata": {},
   "outputs": [],
   "source": [
    "G.add_node(H)"
   ]
  },
  {
   "cell_type": "code",
   "execution_count": null,
   "id": "5880327a",
   "metadata": {},
   "outputs": [],
   "source": [
    "nx.draw_shell(G, nlist=[range(5, 10), range(5)], with_labels=True, font_weight='bold')\n",
    "plt.show()"
   ]
  },
  {
   "cell_type": "code",
   "execution_count": null,
   "id": "2a35aa3e",
   "metadata": {},
   "outputs": [],
   "source": []
  }
 ],
 "metadata": {
  "kernelspec": {
   "display_name": "Python 3 (ipykernel)",
   "language": "python",
   "name": "python3"
  },
  "language_info": {
   "codemirror_mode": {
    "name": "ipython",
    "version": 3
   },
   "file_extension": ".py",
   "mimetype": "text/x-python",
   "name": "python",
   "nbconvert_exporter": "python",
   "pygments_lexer": "ipython3",
   "version": "3.8.8"
  }
 },
 "nbformat": 4,
 "nbformat_minor": 5
}
